{
 "cells": [
  {
   "cell_type": "code",
   "execution_count": 1,
   "metadata": {},
   "outputs": [],
   "source": [
    "from sklearn.feature_extraction.text import CountVectorizer"
   ]
  },
  {
   "cell_type": "code",
   "execution_count": 2,
   "metadata": {},
   "outputs": [],
   "source": [
    "frase = [\"The fool man thinks he is wise,\",\"but the wise man knows himself to be a fool\"]"
   ]
  },
  {
   "cell_type": "code",
   "execution_count": 3,
   "metadata": {},
   "outputs": [
    {
     "name": "stdout",
     "output_type": "stream",
     "text": [
      "frase:\n",
      "['The fool man thinks he is wise,', 'but the wise man knows himself to be a fool']\n"
     ]
    }
   ],
   "source": [
    "print(\"frase:\\n{}\".format(frase))"
   ]
  },
  {
   "cell_type": "code",
   "execution_count": 7,
   "metadata": {},
   "outputs": [
    {
     "name": "stdout",
     "output_type": "stream",
     "text": [
      "Tamaño de vocabulario: 12\n",
      "Vocabulario:\n",
      "['be', 'but', 'fool', 'he', 'himself', 'is', 'knows', 'man', 'the', 'thinks', 'to', 'wise']\n"
     ]
    }
   ],
   "source": [
    "cv = CountVectorizer(ngram_range=(1, 1)).fit(frase)\n",
    "print(\"Tamaño de vocabulario: {}\".format(len(cv.vocabulary_)))\n",
    "print(\"Vocabulario:\\n{}\".format(cv.get_feature_names()))"
   ]
  },
  {
   "cell_type": "code",
   "execution_count": 8,
   "metadata": {},
   "outputs": [
    {
     "name": "stdout",
     "output_type": "stream",
     "text": [
      "Tamaño de vocabulario: 14\n",
      "Vocabulario:\n",
      "['be fool', 'but the', 'fool man', 'he is', 'himself to', 'is wise', 'knows himself', 'man knows', 'man thinks', 'the fool', 'the wise', 'thinks he', 'to be', 'wise man']\n"
     ]
    }
   ],
   "source": [
    "# Bigramas\n",
    "cv = CountVectorizer(ngram_range=(2, 2)).fit(frase)\n",
    "print(\"Tamaño de vocabulario: {}\".format(len(cv.vocabulary_)))\n",
    "print(\"Vocabulario:\\n{}\".format(cv.get_feature_names()))"
   ]
  },
  {
   "cell_type": "code",
   "execution_count": 12,
   "metadata": {},
   "outputs": [
    {
     "name": "stdout",
     "output_type": "stream",
     "text": [
      "Tamaño de vocabulario: 56\n",
      "Vocabulario:\n",
      "[' a ', ' be', ' fo', ' he', ' hi', ' is', ' kn', ' ma', ' th', ' to', ' wi', 'a f', 'an ', 'be ', 'but', 'e a', 'e f', 'e i', 'e m', 'e w', 'elf', 'f t', 'foo', 'he ', 'him', 'hin', 'ims', 'ink', 'is ', 'ise', 'kno', 'ks ', 'l m', 'lf ', 'man', 'mse', 'n k', 'n t', 'nks', 'now', 'o b', 'ol ', 'ool', 'ows', 's h', 's w', 'se ', 'se,', 'sel', 't t', 'the', 'thi', 'to ', 'ut ', 'wis', 'ws ']\n"
     ]
    }
   ],
   "source": [
    "# Trigramas\n",
    "cv = CountVectorizer(analyzer='char',ngram_range=(3, 3)).fit(frase)\n",
    "print(\"Tamaño de vocabulario: {}\".format(len(cv.vocabulary_)))\n",
    "print(\"Vocabulario:\\n{}\".format(cv.get_feature_names()))"
   ]
  },
  {
   "cell_type": "code",
   "execution_count": 13,
   "metadata": {},
   "outputs": [
    {
     "name": "stdout",
     "output_type": "stream",
     "text": [
      "Frase:\n",
      "['su auto grande pasó velozmente', 'tu auto rojo es más caro']\n"
     ]
    }
   ],
   "source": [
    "nueva_frase = [\"su auto grande pasó velozmente\", \"tu auto rojo es más caro\"]\n",
    "print(\"Frase:\\n{}\".format(nueva_frase))"
   ]
  },
  {
   "cell_type": "code",
   "execution_count": 14,
   "metadata": {},
   "outputs": [
    {
     "name": "stdout",
     "output_type": "stream",
     "text": [
      "Tamaño de vocabulario: 10\n",
      "Vocabulario:\n",
      "['auto', 'caro', 'es', 'grande', 'más', 'pasó', 'rojo', 'su', 'tu', 'velozmente']\n"
     ]
    }
   ],
   "source": [
    "# 1-grama\n",
    "cv = CountVectorizer(ngram_range = (1, 1)).fit(nueva_frase)\n",
    "print(\"Tamaño de vocabulario: {}\".format(len(cv.vocabulary_)))\n",
    "print(\"Vocabulario:\\n{}\".format(cv.get_feature_names()))"
   ]
  },
  {
   "cell_type": "code",
   "execution_count": 15,
   "metadata": {},
   "outputs": [
    {
     "name": "stdout",
     "output_type": "stream",
     "text": [
      "Tamaño de vocabulario: 9\n",
      "Vocabulario:\n",
      "['auto grande', 'auto rojo', 'es más', 'grande pasó', 'más caro', 'pasó velozmente', 'rojo es', 'su auto', 'tu auto']\n"
     ]
    }
   ],
   "source": [
    "# 2-grama\n",
    "cv = CountVectorizer(ngram_range = (2, 2)).fit(nueva_frase)\n",
    "print(\"Tamaño de vocabulario: {}\".format(len(cv.vocabulary_)))\n",
    "print(\"Vocabulario:\\n{}\".format(cv.get_feature_names()))"
   ]
  },
  {
   "cell_type": "code",
   "execution_count": 16,
   "metadata": {},
   "outputs": [
    {
     "name": "stdout",
     "output_type": "stream",
     "text": [
      "Tamaño de vocabulario: 43\n",
      "Vocabulario:\n",
      "[' auto', ' caro', ' es m', ' gran', ' más ', ' pasó', ' rojo', ' velo', 'ande ', 'asó v', 'auto ', 'de pa', 'e pas', 'elozm', 'es má', 'grand', 'jo es', 'lozme', 'mente', 'más c', 'nde p', 'o es ', 'o gra', 'o roj', 'ojo e', 'ozmen', 'pasó ', 'rande', 'rojo ', 's car', 's más', 'su au', 'só ve', 'to gr', 'to ro', 'tu au', 'u aut', 'uto g', 'uto r', 'veloz', 'zment', 'ás ca', 'ó vel']\n"
     ]
    }
   ],
   "source": [
    "# 5-grama\n",
    "cv = CountVectorizer(analyzer='char', ngram_range = (5, 5)).fit(nueva_frase)\n",
    "print(\"Tamaño de vocabulario: {}\".format(len(cv.vocabulary_)))\n",
    "print(\"Vocabulario:\\n{}\".format(cv.get_feature_names()))"
   ]
  },
  {
   "cell_type": "code",
   "execution_count": null,
   "metadata": {},
   "outputs": [],
   "source": []
  }
 ],
 "metadata": {
  "kernelspec": {
   "display_name": "Python 3",
   "language": "python",
   "name": "python3"
  },
  "language_info": {
   "codemirror_mode": {
    "name": "ipython",
    "version": 3
   },
   "file_extension": ".py",
   "mimetype": "text/x-python",
   "name": "python",
   "nbconvert_exporter": "python",
   "pygments_lexer": "ipython3",
   "version": "3.6.6"
  }
 },
 "nbformat": 4,
 "nbformat_minor": 2
}
